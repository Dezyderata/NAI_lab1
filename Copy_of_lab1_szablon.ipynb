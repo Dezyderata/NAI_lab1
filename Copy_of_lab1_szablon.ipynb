{
  "nbformat": 4,
  "nbformat_minor": 0,
  "metadata": {
    "colab": {
      "name": "Copy of lab1_szablon.ipynb",
      "provenance": [],
      "collapsed_sections": [],
      "include_colab_link": true
    },
    "kernelspec": {
      "display_name": "Python 3",
      "language": "python",
      "name": "python3"
    },
    "language_info": {
      "codemirror_mode": {
        "name": "ipython",
        "version": 3
      },
      "file_extension": ".py",
      "mimetype": "text/x-python",
      "name": "python",
      "nbconvert_exporter": "python",
      "pygments_lexer": "ipython3",
      "version": "3.6.8"
    }
  },
  "cells": [
    {
      "cell_type": "markdown",
      "metadata": {
        "id": "view-in-github",
        "colab_type": "text"
      },
      "source": [
        "<a href=\"https://colab.research.google.com/github/Dezyderata/NAI_lab1/blob/master/Copy_of_lab1_szablon.ipynb\" target=\"_parent\"><img src=\"https://colab.research.google.com/assets/colab-badge.svg\" alt=\"Open In Colab\"/></a>"
      ]
    },
    {
      "cell_type": "markdown",
      "metadata": {
        "colab_type": "text",
        "id": "49gcsVF6G6eL"
      },
      "source": [
        "#Laboratorium 1: NAI\n",
        "Wprowadzenie do algorytmów genetycznych na przykładzie problemu komiwojażera."
      ]
    },
    {
      "cell_type": "code",
      "metadata": {
        "colab_type": "code",
        "id": "0LXolckjG0L7",
        "colab": {}
      },
      "source": [
        "import numpy as np, random, operator\n",
        "import pandas as pd\n",
        "import matplotlib.pyplot as plt\n",
        "from random import sample, randint"
      ],
      "execution_count": 0,
      "outputs": []
    },
    {
      "cell_type": "markdown",
      "metadata": {
        "colab_type": "text",
        "id": "_CtNOCYRG0MA"
      },
      "source": [
        "## Stworzenie klas i wymaganych funkcji"
      ]
    },
    {
      "cell_type": "code",
      "metadata": {
        "colab_type": "code",
        "id": "gpFvA3H3G0MD",
        "colab": {}
      },
      "source": [
        "# Klasa reprezentująca pojedyncze miasto, miasto reprezentowane jest przez \n",
        "# współrzędne x, y.\n",
        "class City:\n",
        "    def __init__(self, x, y):\n",
        "        self.x = x\n",
        "        self.y = y\n",
        "    \n",
        "    def distance(self, city):\n",
        "        # Zad 1: Oblicz odległość euklidesową pomiędzy miastami - 1 ptk\n",
        "        distance = 0\n",
        "        distance = ((city.x - self.x)**2 + (city.y - self.y)**2)**0.5\n",
        "        return distance\n",
        "    \n",
        "    def __repr__(self):\n",
        "        return \"(\" + str(self.x) + \",\" + str(self.y) + \")\""
      ],
      "execution_count": 0,
      "outputs": []
    },
    {
      "cell_type": "code",
      "metadata": {
        "colab_type": "code",
        "id": "uqlH5Q-iG0MJ",
        "colab": {}
      },
      "source": [
        "\n",
        "# Klasa obliczająca dopasowanie wykorzystując miarę odległości.\n",
        "class Fitness:\n",
        "    def __init__(self, route):\n",
        "        # Route jest to lista obiektow City, o wspolrzednych x i y\n",
        "        self.route = route\n",
        "        self.distance = 0\n",
        "        self.fitness= 0.0\n",
        "    \n",
        "    def routeDistance(self):\n",
        "        if self.distance ==0:\n",
        "            pathDistance = 0\n",
        "            # Zad 2. Oblicz całkowitą trasę (route) - 1 ptk\n",
        "            counter = 1\n",
        "            for city in self.route:\n",
        "                if counter == len(self.route):\n",
        "                    pathDistance += city.distance(self.route[0])\n",
        "                else:\n",
        "                    pathDistance += city.distance(self.route[counter])\n",
        "                    counter += 1\n",
        "            self.distance = pathDistance\n",
        "        return self.distance\n",
        "    \n",
        "    def routeFitness(self):\n",
        "        if self.fitness == 0:\n",
        "            # Funkcja dopasowania jest odwrotnością długości trasy.\n",
        "            # W problemie komiwojażera minimalizujemy odlegość między miastami,\n",
        "            # stąd im większa jest wartość funkcji dopasowania tym lepiej.\n",
        "            self.fitness = 1 / float(self.routeDistance())\n",
        "        return self.fitness"
      ],
      "execution_count": 0,
      "outputs": []
    },
    {
      "cell_type": "code",
      "metadata": {
        "colab_type": "code",
        "id": "jWDo7Hq1AnC1",
        "colab": {}
      },
      "source": [
        "# Zad 2. Przykladowa lista miast - sprawdzenie czy funkcja Fitness poprawnie oblicza odleglosc\n",
        "assert(City(1,2).distance(City(5, 5)) == City(5,5).distance(City(1,2)) == 5)\n",
        "assert(Fitness([City(0,0), City(1, 0), City(1, 1), City(0, 1)]).routeDistance() == 4)\n",
        "assert(Fitness([City(0,0),City(0,2), City(0, 4), City(0, 6), City(0, 8)]).routeDistance() == 16)"
      ],
      "execution_count": 0,
      "outputs": []
    },
    {
      "cell_type": "markdown",
      "metadata": {
        "colab_type": "text",
        "id": "m-U-yQ3WG0MO"
      },
      "source": [
        "## Stwórz populację początkową"
      ]
    },
    {
      "cell_type": "code",
      "metadata": {
        "colab_type": "code",
        "id": "JlI-JxT1G0MT",
        "colab": {}
      },
      "source": [
        "def initialPopulation(popSize, cityList):\n",
        "    # popSize - rozmiar populacji początkowej\n",
        "    # cityList - lista miast\n",
        "    population = []\n",
        "    for pop in range(popSize):\n",
        "        population.append(sample(cityList, len(cityList)))\n",
        "    # Zadanie 3: Stwórz populację początkową, zwróć listę list populacji.\n",
        "    # Wskazowka: Wykorzystaj funkcję `random.sample` - 1 ptk\n",
        "    return population"
      ],
      "execution_count": 0,
      "outputs": []
    },
    {
      "cell_type": "markdown",
      "metadata": {
        "colab_type": "text",
        "id": "9AqCpuCYG0MX"
      },
      "source": [
        "\n",
        "## Implementacja algorytmu genetycznego"
      ]
    },
    {
      "cell_type": "code",
      "metadata": {
        "colab_type": "code",
        "id": "ymq9jO6nG0MZ",
        "colab": {}
      },
      "source": [
        "# Obliczanie funkcji dopasowania dla populacji. Zwracany jest posortowany słownik,\n",
        "# względem malejącej funkcji dopasowania.\n",
        "def rankRoutes(population):\n",
        "    fitnessResults = {}\n",
        "    for i in range(0,len(population)):\n",
        "        fitnessResults[i] = Fitness(population[i]).routeFitness()\n",
        "    return sorted(fitnessResults.items(), key = operator.itemgetter(1), reverse = True)"
      ],
      "execution_count": 0,
      "outputs": []
    },
    {
      "cell_type": "code",
      "metadata": {
        "colab_type": "code",
        "id": "jmWABRhRG0Mf",
        "colab": {}
      },
      "source": [
        "def selection(popRanked, eliteSize):\n",
        "    # Zadanie 4: Zaimplementuj wybrany algorytm selekcji, ktory zwroci liste \n",
        "    # indeksow z populacji, ktore beda pelnily funkcje rodzica dla nastepnego pokolenia.\n",
        "    # Opcje: 1) selekcja ruletkowa: proporcjonalna wartosc do wartosci funkcji\n",
        "    # przystosowania, koniecznosc skalowania 2) Rangowa - zalezna od rangi - \n",
        "    # numeru na liscie posortowanej wzgledem przystosowania\n",
        "    # 3) Turniejowa - wielokrotny wybor najlepszego osobnika z losowo wybieranej \n",
        "    # podpoulacji az do skompletowania populacji potomej\n",
        "    # - 2 ptk\n",
        "    #Turniej\n",
        "    selectionResults = []\n",
        "    for i in range(eliteSize):\n",
        "      selectionResults.append(popRanked[i][0])\n",
        "    for i in range(len(popRanked) - eliteSize):\n",
        "      sam = sample(popRanked, 7)\n",
        "      max = 0\n",
        "      winer = -1\n",
        "      for index, value in sam:\n",
        "        if value > max:\n",
        "          winer = index\n",
        "          max = value\n",
        "      selectionResults.append(winer)\n",
        "    return selectionResults"
      ],
      "execution_count": 0,
      "outputs": []
    },
    {
      "cell_type": "code",
      "metadata": {
        "colab_type": "code",
        "id": "ClOycBRlG0Mj",
        "colab": {}
      },
      "source": [
        "\n",
        "# Stworzenie zbioru rodzicow, ktory bedzie wykorzystany w reprodukcji.\n",
        "def matingPool(population, selectionResults):\n",
        "    matingpool = []\n",
        "    for i in range(0, len(selectionResults)):\n",
        "        index = selectionResults[i]\n",
        "        matingpool.append(population[index])\n",
        "    return matingpool"
      ],
      "execution_count": 0,
      "outputs": []
    },
    {
      "cell_type": "code",
      "metadata": {
        "colab_type": "code",
        "id": "XBAUMSRJG0Mn",
        "colab": {}
      },
      "source": [
        "def breed(parent1, parent2):\n",
        "    # Zdanie 5: Zaimplementuj operacje krzyzowania - 2 ptk\n",
        "    # Przyklad:\n",
        "    # parent1 = [1, 2, 3, 4, 5, *6*, *7*, *8*, 9]\n",
        "    # parent2 = [9, 8, 7, 6, 5, 4, 3, 2, 1]\n",
        "    # child = [9, 5, 4, 3, 2, *6*, *7*, *8*, 1]\n",
        "    visited = set()\n",
        "    border1 = randint(0,len(parent1)-1)\n",
        "    border2 = randint(border1+1, len(parent1))\n",
        "    lparent = len(parent1)\n",
        "    child = [0]*len(parent1)\n",
        "    counter = border1\n",
        "    for i in range(border1, border2):\n",
        "        child[i] = parent1[i]\n",
        "        visited.add(parent1[i])\n",
        "    j = border2%lparent\n",
        "    k = j\n",
        "    while k != border1:\n",
        "      if parent2[j] not in visited:\n",
        "        child[k] = parent2[j]\n",
        "        k = (k+1)%lparent\n",
        "      j = (j+1)%lparent\n",
        "        \n",
        "    return child        \n",
        "        \n"
      ],
      "execution_count": 0,
      "outputs": []
    },
    {
      "cell_type": "code",
      "metadata": {
        "id": "Mnuxwvbkjsfy",
        "colab_type": "code",
        "outputId": "b23693dd-5280-4f33-ebf9-64eab53c749b",
        "colab": {
          "base_uri": "https://localhost:8080/",
          "height": 34
        }
      },
      "source": [
        "    parent1 = [1, 2, 3, 4, 5, 6, 7, 8, 9]\n",
        "    parent2 = [9, 8, 7, 6, 5, 4, 3, 2, 1]\n",
        "    print(breed(parent1, parent2))"
      ],
      "execution_count": 15,
      "outputs": [
        {
          "output_type": "stream",
          "text": [
            "[9, 8, 7, 5, 4, 6, 3, 2, 1]\n"
          ],
          "name": "stdout"
        }
      ]
    },
    {
      "cell_type": "code",
      "metadata": {
        "colab_type": "code",
        "id": "Q_3NIqOAG0Mr",
        "colab": {}
      },
      "source": [
        "# Funkcja obliczająca krzyżowanie dla całej populacji.\n",
        "def breedPopulation(matingpool, eliteSize):\n",
        "    children = []\n",
        "    length = len(matingpool) - eliteSize\n",
        "    pool = random.sample(matingpool, len(matingpool))\n",
        "\n",
        "    for i in range(0,eliteSize):\n",
        "        children.append(matingpool[i])\n",
        "    \n",
        "    for i in range(0, length):\n",
        "        child = breed(pool[i], pool[len(matingpool)-i-1])\n",
        "        children.append(child)\n",
        "    return children"
      ],
      "execution_count": 0,
      "outputs": []
    },
    {
      "cell_type": "code",
      "metadata": {
        "colab_type": "code",
        "id": "AQPNsB7XG0Mv",
        "colab": {}
      },
      "source": [
        "def mutate(individual, mutationRate):\n",
        "    # Zadanie 6: Zaimplementuj operacje mutacji. Mutacja umozliwia przeszukanie\n",
        "    # nowej przestrzeni drog. W pojedynczej operacji mutacji zamieniamy dwa miasta\n",
        "    # losowo wybrane. Miasta sa zamieniane wtedy, kiedy zmienna losowa jest mniejsza\n",
        "    # od mutationRate. - 2 ptk\n",
        "    random_variable = random.uniform(0,1)\n",
        "    if random_variable < mutationRate:\n",
        "      indexes = random.sample(range(len(individual)), 2)\n",
        "      individual[indexes[0]], individual[indexes[1]]= individual[indexes[1]], individual[indexes[0]]\n",
        "    return individual"
      ],
      "execution_count": 0,
      "outputs": []
    },
    {
      "cell_type": "code",
      "metadata": {
        "colab_type": "code",
        "id": "lO3znSixG0Mz",
        "colab": {}
      },
      "source": [
        "# Funkcja, ktora uruchamia operacje mutacji dla calej populacji.\n",
        "def mutatePopulation(population, mutationRate):\n",
        "    mutatedPop = []\n",
        "    for ind in range(0, len(population)):\n",
        "        mutatedInd = mutate(population[ind], mutationRate)\n",
        "        mutatedPop.append(mutatedInd)\n",
        "    return mutatedPop"
      ],
      "execution_count": 0,
      "outputs": []
    },
    {
      "cell_type": "code",
      "metadata": {
        "colab_type": "code",
        "id": "Ifr7dV-AG0M3",
        "colab": {}
      },
      "source": [
        "# Funkcja zbierajaca wszystkie kroki: ocena przystosowania populacji,\n",
        "# algorytm selekcji, reprodukca i mutacja. Tworzy nowa generacje.\n",
        "def nextGeneration(currentGen, eliteSize, mutationRate):\n",
        "    popRanked = rankRoutes(currentGen)\n",
        "    selectionResults = selection(popRanked, eliteSize)\n",
        "    matingpool = matingPool(currentGen, selectionResults)\n",
        "    children = breedPopulation(matingpool, eliteSize)\n",
        "    nextGeneration = mutatePopulation(children, mutationRate)\n",
        "    return nextGeneration"
      ],
      "execution_count": 0,
      "outputs": []
    },
    {
      "cell_type": "code",
      "metadata": {
        "colab_type": "code",
        "id": "UkucKMXgG0M6",
        "colab": {}
      },
      "source": [
        "# Glowna funkcja implementujaca algorytm genetyczny.\n",
        "def geneticAlgorithm(population, popSize, eliteSize, mutationRate, generations):\n",
        "    pop = initialPopulation(popSize, population)\n",
        "    print(\"Initial distance: \" + str(1 / rankRoutes(pop)[0][1]))\n",
        "    for i in range(0, generations):\n",
        "        pop = nextGeneration(pop, eliteSize, mutationRate)\n",
        "    print(\"Final distance: \" + str(1 / rankRoutes(pop)[0][1]))\n",
        "    bestRouteIndex = rankRoutes(pop)[0][0]\n",
        "    bestRoute = pop[bestRouteIndex]\n",
        "    return bestRoute"
      ],
      "execution_count": 0,
      "outputs": []
    },
    {
      "cell_type": "markdown",
      "metadata": {
        "colab_type": "text",
        "id": "5lR7VduyG0M9"
      },
      "source": [
        "## Uruchamianie algorytmu genetycznego"
      ]
    },
    {
      "cell_type": "code",
      "metadata": {
        "colab_type": "code",
        "id": "55dgc6fOP4yQ",
        "colab": {}
      },
      "source": [
        "def drawSingleRoute(route):\n",
        "  \n",
        "  x_coords = []\n",
        "  y_coords = []\n",
        "  for city in route:\n",
        "    x_coords.append(city.x)\n",
        "    y_coords.append(city.y)\n",
        "  x_coords.append(route[0].x)\n",
        "  y_coords.append(route[0].y)\n",
        "  plt.plot(x_coords, y_coords, color='green', marker='o', linestyle='dashed', linewidth=2, markersize=10)\n",
        "  plt.show()\n",
        "\n",
        "  # Zadanie 7: Zaimplementuj funkcję rysującą trasę komiwojażera.\n",
        "  # Hint: możesz wykorzystać biblioteke matplotlib.pyplot - 1 ptk"
      ],
      "execution_count": 0,
      "outputs": []
    },
    {
      "cell_type": "code",
      "metadata": {
        "colab_type": "code",
        "id": "QYB_pT5IG0NA",
        "colab": {}
      },
      "source": [
        "# Stworzenie listy miast, na poczatek 25 miast\n",
        "\n",
        "cityList = []\n",
        "\n",
        "for i in range(0,25):\n",
        "    cityList.append(City(x=int(random.random() * 200), y=int(random.random() * 200)))"
      ],
      "execution_count": 0,
      "outputs": []
    },
    {
      "cell_type": "code",
      "metadata": {
        "colab_type": "code",
        "id": "y1bLS6tGVJkO",
        "outputId": "2b19dbba-5562-49b3-9526-c88fc1554ebc",
        "colab": {
          "base_uri": "https://localhost:8080/",
          "height": 303
        }
      },
      "source": [
        "# Uruchomienie algorytmu genetycznego\n",
        "bestRoute = geneticAlgorithm(population=cityList, popSize=100, eliteSize=20, mutationRate=0.01, generations=500)\n",
        "\n",
        "drawSingleRoute(bestRoute)"
      ],
      "execution_count": 27,
      "outputs": [
        {
          "output_type": "stream",
          "text": [
            "Initial distance: 2158.1195890443637\n",
            "Final distance: 967.6048483039027\n"
          ],
          "name": "stdout"
        },
        {
          "output_type": "display_data",
          "data": {
            "image/png": "[encoded data removed]",
            "text/plain": [
              "<Figure size 432x288 with 1 Axes>"
            ]
          },
          "metadata": {
            "tags": []
          }
        }
      ]
    },
    {
      "cell_type": "markdown",
      "metadata": {
        "colab_type": "text",
        "id": "kQigLsAGG0NR"
      },
      "source": [
        "## Rysowanie postępu algorytmu genetycznego"
      ]
    },
    {
      "cell_type": "code",
      "metadata": {
        "colab_type": "code",
        "id": "Bk2unHh0G0NU",
        "colab": {}
      },
      "source": [
        "# Zadanie 8*: Zaimplementuj funkcje, ktora bedzie rysowala w jaki sposob\n",
        "# zmienia sie odleglosc w kazdej generacji. Os X niech reprezentuje numer generacji,\n",
        "# a os Y - niech reprezentuje odleglosc. - 2 ptk\n",
        "\n",
        "def geneticAlgorithmPlot(population, popSize, eliteSize, mutationRate, generations):\n",
        "  \n",
        "    pass"
      ],
      "execution_count": 0,
      "outputs": []
    },
    {
      "cell_type": "code",
      "metadata": {
        "colab_type": "code",
        "id": "GvYLE7DcVYHN",
        "colab": {}
      },
      "source": [
        "geneticAlgorithmPlot(population=cityList, popSize=100, eliteSize=20, mutationRate=0.01, generations=500)"
      ],
      "execution_count": 0,
      "outputs": []
    },
    {
      "cell_type": "code",
      "metadata": {
        "colab_type": "code",
        "id": "_yk8NUVBRVJM",
        "colab": {}
      },
      "source": [
        "# Zadanie 9**: Zaimplementuj rozne rodzaje algorytmu selekcji i porownaj\n",
        "# w jaki sposob zmienia sie funkcja przystosowania, jak szybko otrzymujemy coraz\n",
        "# to lepsze wyniki. - 3 ptk"
      ],
      "execution_count": 0,
      "outputs": []
    }
  ]
}