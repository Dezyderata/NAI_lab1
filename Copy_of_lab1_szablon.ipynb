{
  "nbformat": 4,
  "nbformat_minor": 0,
  "metadata": {
    "colab": {
      "name": "Copy of lab1_szablon.ipynb",
      "provenance": [],
      "collapsed_sections": [],
      "include_colab_link": true
    },
    "kernelspec": {
      "display_name": "Python 3",
      "language": "python",
      "name": "python3"
    },
    "language_info": {
      "codemirror_mode": {
        "name": "ipython",
        "version": 3
      },
      "file_extension": ".py",
      "mimetype": "text/x-python",
      "name": "python",
      "nbconvert_exporter": "python",
      "pygments_lexer": "ipython3",
      "version": "3.6.8"
    }
  },
  "cells": [
    {
      "cell_type": "markdown",
      "metadata": {
        "id": "view-in-github",
        "colab_type": "text"
      },
      "source": [
        "<a href=\"https://colab.research.google.com/github/Dezyderata/NAI_lab1/blob/master/Copy_of_lab1_szablon.ipynb\" target=\"_parent\"><img src=\"https://colab.research.google.com/assets/colab-badge.svg\" alt=\"Open In Colab\"/></a>"
      ]
    },
    {
      "cell_type": "markdown",
      "metadata": {
        "colab_type": "text",
        "id": "49gcsVF6G6eL"
      },
      "source": [
        "#Laboratorium 1: NAI\n",
        "Wprowadzenie do algorytmów genetycznych na przykładzie problemu komiwojażera."
      ]
    },
    {
      "cell_type": "code",
      "metadata": {
        "colab_type": "code",
        "id": "0LXolckjG0L7",
        "colab": {}
      },
      "source": [
        "import numpy as np, random, operator\n",
        "import pandas as pd\n",
        "import matplotlib.pyplot as plt\n",
        "from random import sample, randint\n",
        "from itertools import cycle\n",
        "from copy import deepcopy"
      ],
      "execution_count": 0,
      "outputs": []
    },
    {
      "cell_type": "markdown",
      "metadata": {
        "colab_type": "text",
        "id": "_CtNOCYRG0MA"
      },
      "source": [
        "## Stworzenie klas i wymaganych funkcji"
      ]
    },
    {
      "cell_type": "code",
      "metadata": {
        "colab_type": "code",
        "id": "gpFvA3H3G0MD",
        "colab": {}
      },
      "source": [
        "# Klasa reprezentująca pojedyncze miasto, miasto reprezentowane jest przez \n",
        "# współrzędne x, y.\n",
        "class City:\n",
        "    def __init__(self, x, y):\n",
        "        self.x = x\n",
        "        self.y = y\n",
        "    \n",
        "    def distance(self, city):\n",
        "        # Zad 1: Oblicz odległość euklidesową pomiędzy miastami - 1 ptk\n",
        "        distance = 0\n",
        "        distance = ((city.x - self.x)**2 + (city.y - self.y)**2)**0.5\n",
        "        return distance\n",
        "    \n",
        "    def __repr__(self):\n",
        "        return \"(\" + str(self.x) + \",\" + str(self.y) + \")\""
      ],
      "execution_count": 0,
      "outputs": []
    },
    {
      "cell_type": "code",
      "metadata": {
        "colab_type": "code",
        "id": "uqlH5Q-iG0MJ",
        "colab": {}
      },
      "source": [
        "\n",
        "# Klasa obliczająca dopasowanie wykorzystując miarę odległości.\n",
        "class Fitness:\n",
        "    def __init__(self, route):\n",
        "        # Route jest to lista obiektow City, o wspolrzednych x i y\n",
        "        self.route = route\n",
        "        self.distance = 0\n",
        "        self.fitness= 0.0\n",
        "    \n",
        "    def routeDistance(self):\n",
        "        if self.distance ==0:\n",
        "            pathDistance = 0\n",
        "            # Zad 2. Oblicz całkowitą trasę (route) - 1 ptk\n",
        "            counter = 1\n",
        "            for city in self.route:\n",
        "                if counter == len(self.route):\n",
        "                    pathDistance += city.distance(self.route[0])\n",
        "                else:\n",
        "                    pathDistance += city.distance(self.route[counter])\n",
        "                    counter += 1\n",
        "            self.distance = pathDistance\n",
        "        return self.distance\n",
        "    \n",
        "    def routeFitness(self):\n",
        "        if self.fitness == 0:\n",
        "            # Funkcja dopasowania jest odwrotnością długości trasy.\n",
        "            # W problemie komiwojażera minimalizujemy odlegość między miastami,\n",
        "            # stąd im większa jest wartość funkcji dopasowania tym lepiej.\n",
        "            self.fitness = 1 / float(self.routeDistance())\n",
        "        return self.fitness"
      ],
      "execution_count": 0,
      "outputs": []
    },
    {
      "cell_type": "code",
      "metadata": {
        "colab_type": "code",
        "id": "jWDo7Hq1AnC1",
        "colab": {}
      },
      "source": [
        "# Zad 2. Przykladowa lista miast - sprawdzenie czy funkcja Fitness poprawnie oblicza odleglosc\n",
        "assert(City(1,2).distance(City(5, 5)) == City(5,5).distance(City(1,2)) == 5)\n",
        "assert(Fitness([City(0,0), City(1, 0), City(1, 1), City(0, 1)]).routeDistance() == 4)\n",
        "assert(Fitness([City(0,0),City(0,2), City(0, 4), City(0, 6), City(0, 8)]).routeDistance() == 16)"
      ],
      "execution_count": 0,
      "outputs": []
    },
    {
      "cell_type": "markdown",
      "metadata": {
        "colab_type": "text",
        "id": "m-U-yQ3WG0MO"
      },
      "source": [
        "## Stwórz populację początkową"
      ]
    },
    {
      "cell_type": "code",
      "metadata": {
        "colab_type": "code",
        "id": "JlI-JxT1G0MT",
        "colab": {}
      },
      "source": [
        "def initialPopulation(popSize, cityList):\n",
        "    # popSize - rozmiar populacji początkowej\n",
        "    # cityList - lista miast\n",
        "    population = []\n",
        "    for pop in range(popSize):\n",
        "        population.append(sample(cityList, len(cityList)))\n",
        "    # Zadanie 3: Stwórz populację początkową, zwróć listę list populacji.\n",
        "    # Wskazowka: Wykorzystaj funkcję `random.sample` - 1 ptk\n",
        "    return population"
      ],
      "execution_count": 0,
      "outputs": []
    },
    {
      "cell_type": "markdown",
      "metadata": {
        "colab_type": "text",
        "id": "9AqCpuCYG0MX"
      },
      "source": [
        "\n",
        "## Implementacja algorytmu genetycznego"
      ]
    },
    {
      "cell_type": "code",
      "metadata": {
        "colab_type": "code",
        "id": "ymq9jO6nG0MZ",
        "colab": {}
      },
      "source": [
        "# Obliczanie funkcji dopasowania dla populacji. Zwracany jest posortowany słownik,\n",
        "# względem malejącej funkcji dopasowania.\n",
        "def rankRoutes(population):\n",
        "    fitnessResults = {}\n",
        "    for i in range(0,len(population)):\n",
        "        fitnessResults[i] = Fitness(population[i]).routeFitness()\n",
        "    return sorted(fitnessResults.items(), key = operator.itemgetter(1), reverse = True)"
      ],
      "execution_count": 0,
      "outputs": []
    },
    {
      "cell_type": "code",
      "metadata": {
        "colab_type": "code",
        "id": "ClOycBRlG0Mj",
        "colab": {}
      },
      "source": [
        "\n",
        "# Stworzenie zbioru rodzicow, ktory bedzie wykorzystany w reprodukcji.\n",
        "def matingPool(population, selectionResults):\n",
        "    matingpool = []\n",
        "    for i in range(0, len(selectionResults)):\n",
        "        index = selectionResults[i]\n",
        "        matingpool.append(population[index])\n",
        "    return matingpool"
      ],
      "execution_count": 0,
      "outputs": []
    },
    {
      "cell_type": "code",
      "metadata": {
        "colab_type": "code",
        "id": "XBAUMSRJG0Mn",
        "colab": {}
      },
      "source": [
        "def breed(parent1, parent2):\n",
        "    # Zdanie 5: Zaimplementuj operacje krzyzowania - 2 ptk\n",
        "    visited = set()\n",
        "    border1 = randint(0,len(parent1)-1)\n",
        "    border2 = randint(border1+1, len(parent1))\n",
        "    lparent = len(parent1)\n",
        "    child = [0]*len(parent1)\n",
        "    counter = border1\n",
        "    for i in range(border1, border2):\n",
        "        child[i] = parent1[i]\n",
        "        visited.add(parent1[i])\n",
        "    j = border2%lparent\n",
        "    k = j\n",
        "    while k != border1:\n",
        "      if parent2[j] not in visited:\n",
        "        child[k] = parent2[j]\n",
        "        k = (k+1)%lparent\n",
        "      j = (j+1)%lparent\n",
        "        \n",
        "    return child        \n",
        "        \n"
      ],
      "execution_count": 0,
      "outputs": []
    },
    {
      "cell_type": "code",
      "metadata": {
        "id": "Mnuxwvbkjsfy",
        "colab_type": "code",
        "outputId": "40898cc2-f9bb-4143-b8d8-5f387d1c35ec",
        "colab": {
          "base_uri": "https://localhost:8080/",
          "height": 34
        }
      },
      "source": [
        "    parent1 = [1, 2, 3, 4, 5, 6, 7, 8, 9]\n",
        "    parent2 = [9, 8, 7, 6, 5, 4, 3, 2, 1]\n",
        "    print(breed(parent1, parent2))"
      ],
      "execution_count": 17,
      "outputs": [
        {
          "output_type": "stream",
          "text": [
            "[9, 8, 3, 4, 5, 6, 7, 2, 1]\n"
          ],
          "name": "stdout"
        }
      ]
    },
    {
      "cell_type": "code",
      "metadata": {
        "colab_type": "code",
        "id": "Q_3NIqOAG0Mr",
        "colab": {}
      },
      "source": [
        "# Funkcja obliczająca krzyżowanie dla całej populacji.\n",
        "def breedPopulation(matingpool, eliteSize):\n",
        "    children = []\n",
        "    length = len(matingpool) - eliteSize\n",
        "    pool = random.sample(matingpool, len(matingpool))\n",
        "\n",
        "    for i in range(0,eliteSize):\n",
        "        children.append(matingpool[i])\n",
        "    \n",
        "    for i in range(0, length):\n",
        "        child = breed(pool[i], pool[len(matingpool)-i-1])\n",
        "        children.append(child)\n",
        "    return children"
      ],
      "execution_count": 0,
      "outputs": []
    },
    {
      "cell_type": "code",
      "metadata": {
        "colab_type": "code",
        "id": "AQPNsB7XG0Mv",
        "colab": {}
      },
      "source": [
        "def mutate(individual, mutationRate):\n",
        "    # Zadanie 6: Zaimplementuj operacje mutacji. Mutacja umozliwia przeszukanie\n",
        "    # nowej przestrzeni drog. W pojedynczej operacji mutacji zamieniamy dwa miasta\n",
        "    # losowo wybrane. Miasta sa zamieniane wtedy, kiedy zmienna losowa jest mniejsza\n",
        "    # od mutationRate. - 2 ptk\n",
        "    random_variable = random.uniform(0,1)\n",
        "    if random_variable < mutationRate:\n",
        "      indexes = random.sample(range(len(individual)), 2)\n",
        "      individual[indexes[0]], individual[indexes[1]]= individual[indexes[1]], individual[indexes[0]]\n",
        "    return individual"
      ],
      "execution_count": 0,
      "outputs": []
    },
    {
      "cell_type": "code",
      "metadata": {
        "colab_type": "code",
        "id": "lO3znSixG0Mz",
        "colab": {}
      },
      "source": [
        "# Funkcja, ktora uruchamia operacje mutacji dla calej populacji.\n",
        "def mutatePopulation(population, mutationRate):\n",
        "    mutatedPop = []\n",
        "    for ind in range(0, len(population)):\n",
        "        mutatedInd = mutate(population[ind], mutationRate)\n",
        "        mutatedPop.append(mutatedInd)\n",
        "    return mutatedPop"
      ],
      "execution_count": 0,
      "outputs": []
    },
    {
      "cell_type": "code",
      "metadata": {
        "colab_type": "code",
        "id": "UkucKMXgG0M6",
        "colab": {}
      },
      "source": [
        "# Glowna funkcja implementujaca algorytm genetyczny.\n",
        "def geneticAlgorithm(population, popSize, eliteSize, mutationRate, generations):\n",
        "    pop = initialPopulation(popSize, population)\n",
        "    print(\"Initial distance: \" + str(1 / rankRoutes(pop)[0][1]))\n",
        "    for i in range(0, generations):\n",
        "        pop = nextGeneration_tournament(pop, eliteSize, mutationRate)\n",
        "    print(\"Final distance: \" + str(1 / rankRoutes(pop)[0][1]))\n",
        "    bestRouteIndex = rankRoutes(pop)[0][0]\n",
        "    bestRoute = pop[bestRouteIndex]\n",
        "    return bestRoute"
      ],
      "execution_count": 0,
      "outputs": []
    },
    {
      "cell_type": "markdown",
      "metadata": {
        "id": "051WUg1khM8o",
        "colab_type": "text"
      },
      "source": [
        "\n",
        "# tournament selection"
      ]
    },
    {
      "cell_type": "code",
      "metadata": {
        "id": "pUvA1yishL9a",
        "colab_type": "code",
        "colab": {}
      },
      "source": [
        "def selection_tournament(popRanked, eliteSize):\n",
        "    selectionResults = []\n",
        "    for i in range(eliteSize):\n",
        "      selectionResults.append(popRanked[i][0])\n",
        "    for i in range(len(popRanked) - eliteSize):\n",
        "      sam = sample(popRanked, 7)\n",
        "      winner = max(sam, key = lambda x : x[1])[0]\n",
        "      selectionResults.append(winner)\n",
        "    return selectionResults"
      ],
      "execution_count": 0,
      "outputs": []
    },
    {
      "cell_type": "code",
      "metadata": {
        "id": "qlLnJm7yhXTq",
        "colab_type": "code",
        "colab": {}
      },
      "source": [
        "def nextGeneration_tournament(currentGen, eliteSize, mutationRate):\n",
        "    popRanked = rankRoutes(currentGen)\n",
        "    selectionResults = selection_tournament(popRanked, eliteSize)\n",
        "    matingpool = matingPool(currentGen, selectionResults)\n",
        "    children = breedPopulation(matingpool, eliteSize)\n",
        "    nextGeneration = mutatePopulation(children, mutationRate)\n",
        "    return nextGeneration"
      ],
      "execution_count": 0,
      "outputs": []
    },
    {
      "cell_type": "code",
      "metadata": {
        "id": "WG_7abAThrgn",
        "colab_type": "code",
        "colab": {}
      },
      "source": [
        "# Zadanie 8*: Zaimplementuj funkcje, ktora bedzie rysowala w jaki sposob\n",
        "# zmienia sie odleglosc w kazdej generacji. Os X niech reprezentuje numer generacji,\n",
        "# a os Y - niech reprezentuje odleglosc. - 2 ptk\n",
        "#tourment\n",
        "def geneticAlgorithmPlot_tournament(pop, population, popSize, eliteSize, mutationRate, generations):\n",
        "#     pop = initialPopulation(popSize, population)\n",
        "    print(\"tournament\")\n",
        "    steps = []\n",
        "    print(\"Initial distance: \" + str(1 / rankRoutes(pop)[0][1]))\n",
        "    for i in range(0, generations):\n",
        "        steps.append(1 / rankRoutes(pop)[0][1])\n",
        "        pop = nextGeneration_tournament(pop, eliteSize, mutationRate)\n",
        "    print(\"Final distance: \" + str(1 / rankRoutes(pop)[0][1]))\n",
        "    steps.append(1 / rankRoutes(pop)[0][1])\n",
        "    printAll(steps)\n",
        "    bestRouteIndex = rankRoutes(pop)[0][0]\n",
        "    bestRoute = pop[bestRouteIndex]\n",
        "    return bestRoute"
      ],
      "execution_count": 0,
      "outputs": []
    },
    {
      "cell_type": "markdown",
      "metadata": {
        "id": "nU_E3dnBiPPX",
        "colab_type": "text"
      },
      "source": [
        "# roulette wheel sellection"
      ]
    },
    {
      "cell_type": "code",
      "metadata": {
        "id": "JGHUnOD7h3a_",
        "colab_type": "code",
        "colab": {}
      },
      "source": [
        "def selection_roulette(popRanked, eliteSize):\n",
        "    selectionResults = []\n",
        "    for i in range(eliteSize):\n",
        "      selectionResults.append(popRanked[i][0])\n",
        "    fitness_sum = np.sum(popRanked, axis = 0)[1]\n",
        "    sum_of_probabilities = 0\n",
        "    probabilities_list = []\n",
        "    for index, value in popRanked[::-1]:\n",
        "      probabilities_list.append((index, sum_of_probabilities+(value/fitness_sum)))\n",
        "      sum_of_probabilities = probabilities_list[-1][1]\n",
        "    for i in range(len(popRanked) - eliteSize):\n",
        "      num = random.uniform(0,1)\n",
        "      if num < probabilities_list[0][1]:\n",
        "        selectionResults.append(probabilities_list[0][0])\n",
        "      elif num > probabilities_list[-1][1]:\n",
        "        selectionResults.append(probabilities_list[-1][0])\n",
        "      else:\n",
        "        probabilities_list_cycle = cycle(probabilities_list)\n",
        "        item = next(probabilities_list_cycle)\n",
        "        while True:\n",
        "          next_item = next(probabilities_list_cycle)\n",
        "          if item[1] < num and next_item[1] > num:\n",
        "            selectionResults.append(next_item[0])\n",
        "            break\n",
        "          item, next_item = next_item, next(probabilities_list_cycle)\n",
        "    return selectionResults"
      ],
      "execution_count": 0,
      "outputs": []
    },
    {
      "cell_type": "code",
      "metadata": {
        "id": "Xc6IIk5tijOS",
        "colab_type": "code",
        "colab": {}
      },
      "source": [
        "def nextGeneration_roulette(currentGen, eliteSize, mutationRate):\n",
        "    popRanked = rankRoutes(currentGen)\n",
        "    selectionResults = selection_roulette(popRanked, eliteSize)\n",
        "    matingpool = matingPool(currentGen, selectionResults)\n",
        "    children = breedPopulation(matingpool, eliteSize)\n",
        "    nextGeneration = mutatePopulation(children, mutationRate)\n",
        "    return nextGeneration"
      ],
      "execution_count": 0,
      "outputs": []
    },
    {
      "cell_type": "code",
      "metadata": {
        "id": "4s-DYAfFisGu",
        "colab_type": "code",
        "colab": {}
      },
      "source": [
        "def geneticAlgorithmPlot_roulette(pop, population, popSize, eliteSize, mutationRate, generations):\n",
        "    steps = []\n",
        "    print(\"roulette\")\n",
        "#     pop = initialPopulation(popSize, population)\n",
        "    print(\"Initial distance: \" + str(1 / rankRoutes(pop)[0][1]))\n",
        "    for i in range(0, generations):\n",
        "        steps.append(1 / rankRoutes(pop)[0][1])\n",
        "        pop = nextGeneration_roulette(pop, eliteSize, mutationRate)\n",
        "    print(\"Final distance: \" + str(1 / rankRoutes(pop)[0][1]))\n",
        "    steps.append(1 / rankRoutes(pop)[0][1])\n",
        "    printAll(steps)\n",
        "    bestRouteIndex = rankRoutes(pop)[0][0]\n",
        "    bestRoute = pop[bestRouteIndex]\n",
        "    return bestRoute"
      ],
      "execution_count": 0,
      "outputs": []
    },
    {
      "cell_type": "markdown",
      "metadata": {
        "id": "1Y8Ir-01i3Ft",
        "colab_type": "text"
      },
      "source": [
        "# rank selection"
      ]
    },
    {
      "cell_type": "code",
      "metadata": {
        "id": "f36-PFnSjDO_",
        "colab_type": "code",
        "colab": {}
      },
      "source": [
        "def selection_rank(popRanked, eliteSize):\n",
        "    selectionResults = []\n",
        "    for i in range(eliteSize):\n",
        "      selectionResults.append(popRanked[i][0])\n",
        "    probabilities_list = []\n",
        "    rank_sum = (len(popRanked)+1)*len(popRanked)/2\n",
        "    probabilities_list = [(float(a)/rank_sum,b[0]) for a, b in zip(range(len(popRanked),0,-1), popRanked)]\n",
        "    for i in range(len(popRanked) - eliteSize):\n",
        "      num = random.uniform(0,1)\n",
        "      prob = 0\n",
        "      for i in probabilities_list:\n",
        "        prob += i[0]\n",
        "        if num < prob:\n",
        "          selectionResults.append(i[1])\n",
        "          break\n",
        "    return selectionResults\n"
      ],
      "execution_count": 0,
      "outputs": []
    },
    {
      "cell_type": "code",
      "metadata": {
        "id": "HC60SkjUjPre",
        "colab_type": "code",
        "colab": {}
      },
      "source": [
        "def nextGeneration_rank(currentGen, eliteSize, mutationRate):\n",
        "    popRanked = rankRoutes(currentGen)\n",
        "    selectionResults = selection_rank(popRanked, eliteSize)\n",
        "    matingpool = matingPool(currentGen, selectionResults)\n",
        "    children = breedPopulation(matingpool, eliteSize)\n",
        "    nextGeneration = mutatePopulation(children, mutationRate)\n",
        "    return nextGeneration"
      ],
      "execution_count": 0,
      "outputs": []
    },
    {
      "cell_type": "code",
      "metadata": {
        "id": "uUB0ZFXajW4f",
        "colab_type": "code",
        "colab": {}
      },
      "source": [
        "def geneticAlgorithmPlot_rank(pop, population, popSize, eliteSize, mutationRate, generations):\n",
        "    steps = []\n",
        "    print(\"rank\")\n",
        "#     pop = initialPopulation(popSize, population)\n",
        "    print(\"Initial distance: \" + str(1 / rankRoutes(pop)[0][1]))\n",
        "    for i in range(0, generations):\n",
        "        steps.append(1 / rankRoutes(pop)[0][1])\n",
        "        pop = nextGeneration_rank(pop, eliteSize, mutationRate)\n",
        "    print(\"Final distance: \" + str(1 / rankRoutes(pop)[0][1]))\n",
        "    steps.append(1 / rankRoutes(pop)[0][1])\n",
        "    printAll(steps)\n",
        "    bestRouteIndex = rankRoutes(pop)[0][0]\n",
        "    bestRoute = pop[bestRouteIndex]\n",
        "    return bestRoute"
      ],
      "execution_count": 0,
      "outputs": []
    },
    {
      "cell_type": "markdown",
      "metadata": {
        "colab_type": "text",
        "id": "5lR7VduyG0M9"
      },
      "source": [
        "## auxiliary functions"
      ]
    },
    {
      "cell_type": "code",
      "metadata": {
        "colab_type": "code",
        "id": "55dgc6fOP4yQ",
        "colab": {}
      },
      "source": [
        "def drawSingleRoute(route):\n",
        "  \n",
        "  x_coords = []\n",
        "  y_coords = []\n",
        "  for city in route:\n",
        "    x_coords.append(city.x)\n",
        "    y_coords.append(city.y)\n",
        "  x_coords.append(route[0].x)\n",
        "  y_coords.append(route[0].y)\n",
        "  plt.plot(x_coords, y_coords, color='green', marker='o', linestyle='dashed', linewidth=2, markersize=10)\n",
        "  plt.show()\n",
        "\n",
        "  # Zadanie 7: Zaimplementuj funkcję rysującą trasę komiwojażera.\n",
        "  # Hint: możesz wykorzystać biblioteke matplotlib.pyplot - 1 ptk"
      ],
      "execution_count": 0,
      "outputs": []
    },
    {
      "cell_type": "code",
      "metadata": {
        "id": "VZ_sohtsjpTZ",
        "colab_type": "code",
        "colab": {}
      },
      "source": [
        "# Zadanie 9**: Zaimplementuj rozne rodzaje algorytmu selekcji i porownaj\n",
        "# w jaki sposob zmienia sie funkcja przystosowania, jak szybko otrzymujemy coraz\n",
        "\n",
        "# to lepsze wyniki. - 3 ptk\n",
        "def printAll(steps):\n",
        "  \n",
        "  y_pos = list(range(len(steps)))\n",
        "  plt.bar(y_pos, steps, align='center', alpha=0.5)\n",
        "  plt.axis([-1, len(steps), min(steps)-100, max(steps)+100])\n",
        "  plt.xlabel('generation')\n",
        "  plt.ylabel('distance')\n",
        "  \n",
        "  plt.show()\n"
      ],
      "execution_count": 0,
      "outputs": []
    },
    {
      "cell_type": "markdown",
      "metadata": {
        "id": "QKANp9FUjyHH",
        "colab_type": "text"
      },
      "source": [
        "# Uruchomienie algorytmu genetycznego"
      ]
    },
    {
      "cell_type": "code",
      "metadata": {
        "colab_type": "code",
        "id": "QYB_pT5IG0NA",
        "colab": {}
      },
      "source": [
        "# Stworzenie listy miast, na poczatek 25 miast wraz z inicjacją pierwotnej populacji, co umożliwi porównanie sposobów selekcji\n",
        "cityList = []\n",
        "for i in range(0,25):\n",
        "    cityList.append(City(x=int(random.random() * 200), y=int(random.random() * 200)))\n",
        "pop = initialPopulation(100, cityList)\n"
      ],
      "execution_count": 0,
      "outputs": []
    },
    {
      "cell_type": "code",
      "metadata": {
        "colab_type": "code",
        "id": "y1bLS6tGVJkO",
        "outputId": "ad319452-5850-416a-8ad4-33dc1c0ddba1",
        "colab": {
          "base_uri": "https://localhost:8080/",
          "height": 303
        }
      },
      "source": [
        "#bez rysowania kolejnych generacji. Rodzaj selekcji: turniej\n",
        "bestRoute = geneticAlgorithm(population=cityList, popSize=100, eliteSize=20, mutationRate=0.01, generations=500)\n",
        "\n",
        "drawSingleRoute(bestRoute)"
      ],
      "execution_count": 38,
      "outputs": [
        {
          "output_type": "stream",
          "text": [
            "Initial distance: 2066.3574225945213\n",
            "Final distance: 1052.384359771778\n"
          ],
          "name": "stdout"
        },
        {
          "output_type": "display_data",
          "data": {
            "image/png": "[encoded data removed]",
            "text/plain": [
              "<Figure size 432x288 with 1 Axes>"
            ]
          },
          "metadata": {
            "tags": []
          }
        }
      ]
    },
    {
      "cell_type": "markdown",
      "metadata": {
        "colab_type": "text",
        "id": "kQigLsAGG0NR"
      },
      "source": [
        "## Różne algorytmy selekcji wraz z rysowaniem postępu"
      ]
    },
    {
      "cell_type": "code",
      "metadata": {
        "colab_type": "code",
        "id": "GvYLE7DcVYHN",
        "outputId": "517f64b6-f70d-4b53-e774-e7f2b35ec8e6",
        "colab": {
          "base_uri": "https://localhost:8080/",
          "height": 586
        }
      },
      "source": [
        "bestRoute_tournament = geneticAlgorithmPlot_tournament(pop, population=cityList, popSize=100, eliteSize=20, mutationRate=0.02, generations=200)\n",
        "\n",
        "drawSingleRoute(bestRoute_tournament)"
      ],
      "execution_count": 51,
      "outputs": [
        {
          "output_type": "stream",
          "text": [
            "tourment\n",
            "Initial distance: 1985.8621115936066\n",
            "Final distance: 1017.9371190092922\n"
          ],
          "name": "stdout"
        },
        {
          "output_type": "display_data",
          "data": {
            "image/png": "[encoded data removed]",
            "text/plain": [
              "<Figure size 432x288 with 1 Axes>"
            ]
          },
          "metadata": {
            "tags": []
          }
        },
        {
          "output_type": "display_data",
          "data": {
            "image/png": "[encoded data removed]",
            "text/plain": [
              "<Figure size 432x288 with 1 Axes>"
            ]
          },
          "metadata": {
            "tags": []
          }
        }
      ]
    },
    {
      "cell_type": "code",
      "metadata": {
        "id": "Wbm5Di3JgtOF",
        "colab_type": "code",
        "outputId": "cbc77032-b6f3-4888-d83f-8aa7abac39ad",
        "colab": {
          "base_uri": "https://localhost:8080/",
          "height": 586
        }
      },
      "source": [
        "bestRoute_roulette = geneticAlgorithmPlot_roulette(pop, population=cityList, popSize=100, eliteSize=20, mutationRate=0.02, generations=200)\n",
        "\n",
        "drawSingleRoute(bestRoute_roulette)"
      ],
      "execution_count": 52,
      "outputs": [
        {
          "output_type": "stream",
          "text": [
            "roulette\n",
            "Initial distance: 1985.8621115936066\n",
            "Final distance: 971.6214248402515\n"
          ],
          "name": "stdout"
        },
        {
          "output_type": "display_data",
          "data": {
            "image/png": "[encoded data removed]",
            "text/plain": [
              "<Figure size 432x288 with 1 Axes>"
            ]
          },
          "metadata": {
            "tags": []
          }
        },
        {
          "output_type": "display_data",
          "data": {
            "image/png": "[encoded data removed]",
            "text/plain": [
              "<Figure size 432x288 with 1 Axes>"
            ]
          },
          "metadata": {
            "tags": []
          }
        }
      ]
    },
    {
      "cell_type": "code",
      "metadata": {
        "id": "WgDr8L9hiQ-U",
        "colab_type": "code",
        "outputId": "2a7564df-eb5b-43b2-bb46-c1e11037c79d",
        "colab": {
          "base_uri": "https://localhost:8080/",
          "height": 586
        }
      },
      "source": [
        "bestRoute_rank = geneticAlgorithmPlot_rank(pop, population=cityList, popSize=100, eliteSize=20, mutationRate=0.02, generations=200)\n",
        "\n",
        "drawSingleRoute(bestRoute_rank)"
      ],
      "execution_count": 53,
      "outputs": [
        {
          "output_type": "stream",
          "text": [
            "rank\n",
            "Initial distance: 1985.8621115936066\n",
            "Final distance: 1067.258333674759\n"
          ],
          "name": "stdout"
        },
        {
          "output_type": "display_data",
          "data": {
            "image/png": "[encoded data removed]",
            "text/plain": [
              "<Figure size 432x288 with 1 Axes>"
            ]
          },
          "metadata": {
            "tags": []
          }
        },
        {
          "output_type": "display_data",
          "data": {
            "image/png": "[encoded data removed]",
            "text/plain": [
              "<Figure size 432x288 with 1 Axes>"
            ]
          },
          "metadata": {
            "tags": []
          }
        }
      ]
    },
    {
      "cell_type": "markdown",
      "metadata": {
        "id": "HTFz9CwdoZHM",
        "colab_type": "text"
      },
      "source": [
        "# analysis of convergence times of solutions and achieved results "
      ]
    },
    {
      "cell_type": "code",
      "metadata": {
        "id": "G3ceojoX0tDz",
        "colab_type": "code",
        "colab": {}
      },
      "source": [
        "city_list = []\n",
        "for i in range(0,25):\n",
        "    city_list.append(City(x=int(random.random() * 200), y=int(random.random() * 200)))\n",
        "popu = initialPopulation(100, city_list)"
      ],
      "execution_count": 0,
      "outputs": []
    },
    {
      "cell_type": "code",
      "metadata": {
        "id": "3hOQpRSdiq9S",
        "colab_type": "code",
        "colab": {}
      },
      "source": [
        "def geneticAlgorithmAnalysis_tournament(pop, population, popSize, eliteSize, mutationRate, generations):\n",
        "    steps = []\n",
        "    convergence = 0\n",
        "    for i in range(generations):\n",
        "        steps.append(1 / rankRoutes(pop)[0][1])\n",
        "        if len(steps) >= 2:\n",
        "          if steps[-1] < steps[-2]:\n",
        "            convergence = 0\n",
        "          else:\n",
        "            convergence += 1\n",
        "        pop = nextGeneration_tournament(pop, eliteSize, mutationRate)\n",
        "    steps.append(1 / rankRoutes(pop)[0][1])\n",
        "    return 1 / rankRoutes(pop)[0][1], convergence"
      ],
      "execution_count": 0,
      "outputs": []
    },
    {
      "cell_type": "code",
      "metadata": {
        "id": "uVGwiw7oj1tx",
        "colab_type": "code",
        "colab": {}
      },
      "source": [
        "def geneticAlgorithmAnalysis_roulette(pop, population, popSize, eliteSize, mutationRate, generations):\n",
        "    steps = []\n",
        "    convergence = 0\n",
        "    for i in range(generations):\n",
        "        steps.append(1 / rankRoutes(pop)[0][1])\n",
        "        if len(steps) >= 2:\n",
        "          if steps[-1] < steps[-2]:\n",
        "            convergence = 0\n",
        "          else:\n",
        "            convergence += 1\n",
        "        pop = nextGeneration_roulette(pop, eliteSize, mutationRate)\n",
        "    steps.append(1 / rankRoutes(pop)[0][1])\n",
        "    return 1 / rankRoutes(pop)[0][1], convergence"
      ],
      "execution_count": 0,
      "outputs": []
    },
    {
      "cell_type": "code",
      "metadata": {
        "id": "ORE2ySd6pTDb",
        "colab_type": "code",
        "colab": {}
      },
      "source": [
        "def geneticAlgorithmAnalysis_rank(pop, population, popSize, eliteSize, mutationRate, generations):\n",
        "    steps = []\n",
        "    convergence = 0\n",
        "    for i in range(generations):\n",
        "        steps.append(1 / rankRoutes(pop)[0][1])\n",
        "        if len(steps) >= 2:\n",
        "          if steps[-1] < steps[-2]:\n",
        "            convergence = 0\n",
        "          else:\n",
        "            convergence += 1\n",
        "        pop = nextGeneration_rank(pop, eliteSize, mutationRate)\n",
        "    steps.append(1 / rankRoutes(pop)[0][1])\n",
        "    return 1 / rankRoutes(pop)[0][1], convergence"
      ],
      "execution_count": 0,
      "outputs": []
    },
    {
      "cell_type": "markdown",
      "metadata": {
        "id": "5f7M4vdx3u6q",
        "colab_type": "text"
      },
      "source": [
        "# mutation rate 2%"
      ]
    },
    {
      "cell_type": "code",
      "metadata": {
        "id": "50lXGmoAqlVB",
        "colab_type": "code",
        "colab": {
          "base_uri": "https://localhost:8080/",
          "height": 105
        },
        "outputId": "141de8f3-6dce-4939-e71a-e9d58f65bd2f"
      },
      "source": [
        "tournament = []\n",
        "for _ in range(20):\n",
        "  tournament.append(geneticAlgorithmAnalysis_tournament(deepcopy(popu), population=cityList, popSize=100, eliteSize=20, mutationRate=0.02, generations=100))\n",
        "print(tournament)\n",
        "print(f\"tournament \\ngenerations to convergence: min: {np.min(tournament, axis = 0)[1]}, average: {(np.sum(tournament, axis = 0)[1])/len(tournament)}, max: {np.max(tournament, axis = 0)[1]}\")\n",
        "print(f\"best routes: min: {np.min(tournament, axis = 0)[0]}, average: {(np.sum(tournament, axis = 0)[0])/len(tournament)}, max: {np.max(tournament, axis = 0)[0]}\")"
      ],
      "execution_count": 100,
      "outputs": [
        {
          "output_type": "stream",
          "text": [
            "[(1119.1010843320362, 28), (1191.016701251681, 20), (1280.949110047939, 8), (1240.6252610670504, 7), (1183.2527620638512, 20), (992.1333309769939, 22), (945.5931844598781, 20), (970.958305400124, 36), (1264.6951090706548, 71), (1057.4121692889964, 72), (1092.261564187376, 52), (1011.5310962201995, 12), (1207.0451738237034, 3), (1000.2892763881582, 71), (1212.209918886375, 13), (1126.0506397675108, 45), (1140.508142875612, 0), (989.4732714604836, 14), (1051.4629870480437, 5), (1127.0093957198765, 38)]\n",
            "tournament \n",
            "generations to convergence: min: 0.0, average: 27.85, max: 72.0\n",
            "best routes: min: 945.5931844598781, average: 1110.1789242168272, max: 1280.949110047939\n"
          ],
          "name": "stdout"
        }
      ]
    },
    {
      "cell_type": "code",
      "metadata": {
        "id": "H9UarQJgrJ-t",
        "colab_type": "code",
        "colab": {
          "base_uri": "https://localhost:8080/",
          "height": 105
        },
        "outputId": "27a15cbe-0872-4913-bdc2-5338b139be86"
      },
      "source": [
        "roulette = []\n",
        "for _ in range(20):\n",
        "  roulette.append(geneticAlgorithmAnalysis_roulette(deepcopy(popu), population=cityList, popSize=100, eliteSize=20, mutationRate=0.02, generations=100))\n",
        "print(roulette)\n",
        "print(f\"roulette selection \\ngenerations to convergence: min: {np.min(roulette, axis = 0)[1]}, average: {(np.sum(roulette, axis = 0)[1])/len(roulette)}, max: {np.max(roulette, axis = 0)[1]}\")\n",
        "print(f\"best routes: min: {np.min(roulette, axis = 0)[0]}, average: {(np.sum(roulette, axis = 0)[0])/len(roulette)}, max: {np.max(roulette, axis = 0)[0]}\")"
      ],
      "execution_count": 101,
      "outputs": [
        {
          "output_type": "stream",
          "text": [
            "[(994.9661737587049, 3), (983.3260929746331, 1), (1048.9109344623314, 5), (988.8928099510382, 3), (942.8658232467426, 11), (986.3886938536393, 3), (1060.5537266738643, 17), (1087.8906861597166, 18), (983.6291802123235, 11), (1040.4422228959668, 17), (1013.2141630651113, 18), (906.9260657930935, 9), (974.6902869034063, 2), (891.8411695608477, 2), (958.8391259579811, 17), (993.5066119525154, 32), (897.2503105787599, 10), (996.2674975751554, 10), (891.8411695608478, 2), (993.4430745575422, 6)]\n",
            "roulette selection \n",
            "generations to convergence: min: 1.0, average: 9.85, max: 32.0\n",
            "best routes: min: 891.8411695608477, average: 981.7842909847108, max: 1087.8906861597166\n"
          ],
          "name": "stdout"
        }
      ]
    },
    {
      "cell_type": "code",
      "metadata": {
        "id": "8cfIhZK3r6s-",
        "colab_type": "code",
        "colab": {
          "base_uri": "https://localhost:8080/",
          "height": 105
        },
        "outputId": "399d2ada-6b3f-46ac-92ac-26b085393aba"
      },
      "source": [
        "rank = []\n",
        "for _ in range(20):\n",
        "  rank.append(geneticAlgorithmAnalysis_rank(deepcopy(popu), population=cityList, popSize=100, eliteSize=20, mutationRate=0.02, generations=100))\n",
        "print(rank)\n",
        "print(f\"rank selection \\ngenerations to convergence: min: {np.min(rank, axis = 0)[1]}, average: {(np.sum(rank, axis = 0)[1])/len(rank)}, max: {np.max(rank, axis = 0)[1]}\")\n",
        "print(f\"best routes: min: {np.min(rank, axis = 0)[0]}, average: {(np.sum(rank, axis = 0)[0])/len(rank)}, max: {np.max(rank, axis = 0)[0]}\")"
      ],
      "execution_count": 102,
      "outputs": [
        {
          "output_type": "stream",
          "text": [
            "[(961.476656220936, 2), (1029.6969962214991, 44), (1025.361733055325, 9), (996.2250230805029, 14), (1057.5873489785797, 12), (1034.05508888478, 51), (1005.1287526187851, 37), (1079.731292294954, 23), (1018.4061917309084, 54), (934.68497115846, 33), (952.3128309410926, 5), (975.4396861838252, 15), (981.4863647454749, 45), (1013.0456226611483, 27), (1099.8127649558965, 10), (1018.5277760689381, 54), (1021.8958333568495, 23), (964.499272626484, 12), (1170.9440142040708, 37), (964.9929866568588, 21)]\n",
            "rank selection \n",
            "generations to convergence: min: 2.0, average: 26.4, max: 54.0\n",
            "best routes: min: 934.68497115846, average: 1015.2655603322685, max: 1170.9440142040708\n"
          ],
          "name": "stdout"
        }
      ]
    },
    {
      "cell_type": "markdown",
      "metadata": {
        "id": "TdzO0_DY3zGY",
        "colab_type": "text"
      },
      "source": [
        "# mutation rate 1%"
      ]
    },
    {
      "cell_type": "code",
      "metadata": {
        "id": "NTzqX7Zy1YvL",
        "colab_type": "code",
        "colab": {
          "base_uri": "https://localhost:8080/",
          "height": 105
        },
        "outputId": "bc74e9fc-b892-4b2f-dbda-36f7c310f05d"
      },
      "source": [
        "tournament = []\n",
        "for _ in range(20):\n",
        "  tournament.append(geneticAlgorithmAnalysis_tournament(deepcopy(popu), population=cityList, popSize=100, eliteSize=20, mutationRate=0.01, generations=100))\n",
        "print(tournament)\n",
        "print(f\"tournament \\ngenerations to convergence: min: {np.min(tournament, axis = 0)[1]}, average: {(np.sum(tournament, axis = 0)[1])/len(tournament)}, max: {np.max(tournament, axis = 0)[1]}\")\n",
        "print(f\"best routes: min: {np.min(tournament, axis = 0)[0]}, average: {(np.sum(tournament, axis = 0)[0])/len(tournament)}, max: {np.max(tournament, axis = 0)[0]}\")"
      ],
      "execution_count": 104,
      "outputs": [
        {
          "output_type": "stream",
          "text": [
            "[(1077.2401889697576, 40), (1057.8906767554188, 76), (1047.6711936381575, 63), (1173.704815156308, 79), (1071.282392954165, 57), (1185.2917459029647, 33), (1118.233250190499, 28), (1137.4839006936584, 28), (1080.3385059000398, 55), (1125.8496673501024, 3), (1176.3915128301044, 67), (1060.1025923234208, 2), (1399.7575418803501, 0), (1033.7587211810742, 19), (1021.2207572438556, 16), (1023.4196362014193, 2), (1106.4375978867317, 68), (1361.7877535996563, 36), (1167.4943956980144, 49), (1151.4981574146714, 55)]\n",
            "tournament \n",
            "generations to convergence: min: 0.0, average: 38.8, max: 79.0\n",
            "best routes: min: 1021.2207572438556, average: 1128.8427501885185, max: 1399.7575418803501\n"
          ],
          "name": "stdout"
        }
      ]
    },
    {
      "cell_type": "code",
      "metadata": {
        "id": "oTLtgUSU33xq",
        "colab_type": "code",
        "colab": {
          "base_uri": "https://localhost:8080/",
          "height": 105
        },
        "outputId": "274f6a98-bca2-4b25-a3ba-58203149266a"
      },
      "source": [
        "roulette = []\n",
        "for _ in range(20):\n",
        "  roulette.append(geneticAlgorithmAnalysis_roulette(deepcopy(popu), population=cityList, popSize=100, eliteSize=20, mutationRate=0.01, generations=100))\n",
        "print(roulette)\n",
        "print(f\"roulette selection \\ngenerations to convergence: min: {np.min(roulette, axis = 0)[1]}, average: {(np.sum(roulette, axis = 0)[1])/len(roulette)}, max: {np.max(roulette, axis = 0)[1]}\")\n",
        "print(f\"best routes: min: {np.min(roulette, axis = 0)[0]}, average: {(np.sum(roulette, axis = 0)[0])/len(roulette)}, max: {np.max(roulette, axis = 0)[0]}\")"
      ],
      "execution_count": 105,
      "outputs": [
        {
          "output_type": "stream",
          "text": [
            "[(906.9260657930935, 34), (1031.979390419907, 1), (891.8411695608478, 7), (972.6298122724311, 14), (993.852279942499, 40), (1046.8374345537397, 2), (941.9611205074149, 2), (898.2755877147741, 18), (1012.1210422374104, 6), (1040.777091924438, 41), (1018.5262797259105, 29), (989.9861796253095, 0), (1208.09195144449, 0), (1017.5592709869716, 9), (992.1245368415467, 3), (891.8411695608478, 22), (897.2503105787599, 11), (996.6802177463109, 1), (937.187387418296, 23), (1000.2437843579662, 6)]\n",
            "roulette selection \n",
            "generations to convergence: min: 0.0, average: 13.45, max: 41.0\n",
            "best routes: min: 891.8411695608478, average: 984.334604160648, max: 1208.09195144449\n"
          ],
          "name": "stdout"
        }
      ]
    },
    {
      "cell_type": "code",
      "metadata": {
        "id": "HWhf-wkd36s3",
        "colab_type": "code",
        "colab": {
          "base_uri": "https://localhost:8080/",
          "height": 105
        },
        "outputId": "c2d7cf0f-1e41-4ecc-f1e2-7d7e4f2541da"
      },
      "source": [
        "rank = []\n",
        "for _ in range(20):\n",
        "  rank.append(geneticAlgorithmAnalysis_rank(deepcopy(popu), population=cityList, popSize=100, eliteSize=20, mutationRate=0.01, generations=100))\n",
        "print(rank)\n",
        "print(f\"rank selection \\ngenerations to convergence: min: {np.min(rank, axis = 0)[1]}, average: {(np.sum(rank, axis = 0)[1])/len(rank)}, max: {np.max(rank, axis = 0)[1]}\")\n",
        "print(f\"best routes: min: {np.min(rank, axis = 0)[0]}, average: {(np.sum(rank, axis = 0)[0])/len(rank)}, max: {np.max(rank, axis = 0)[0]}\")"
      ],
      "execution_count": 106,
      "outputs": [
        {
          "output_type": "stream",
          "text": [
            "[(1044.95221658861, 7), (942.2128584630525, 42), (1046.2316258948733, 43), (1027.3203874255742, 14), (1207.4015139906733, 56), (1125.3133983398593, 16), (1049.5496869245121, 29), (1010.8851383658639, 43), (1056.0511407696024, 34), (1008.2097165490884, 50), (1130.9672121311112, 9), (1162.8566300840957, 19), (1023.2730153473615, 33), (1169.163900328881, 56), (1112.3485432680097, 55), (961.7292969055534, 13), (1005.726630040043, 30), (1041.4447898004091, 48), (1080.046139632565, 38), (942.9060479987814, 10)]\n",
            "rank selection \n",
            "generations to convergence: min: 7.0, average: 32.25, max: 56.0\n",
            "best routes: min: 942.2128584630525, average: 1057.429494442426, max: 1207.4015139906733\n"
          ],
          "name": "stdout"
        }
      ]
    },
    {
      "cell_type": "code",
      "metadata": {
        "id": "TI2Kz3sw4EUh",
        "colab_type": "code",
        "colab": {}
      },
      "source": [
        ""
      ],
      "execution_count": 0,
      "outputs": []
    }
  ]
}